{
 "cells": [
  {
   "cell_type": "code",
   "execution_count": 4,
   "id": "781ac13f",
   "metadata": {},
   "outputs": [
    {
     "name": "stdout",
     "output_type": "stream",
     "text": [
      "['1.png', '10.jpg', '2.jpg', '3.png']\n",
      "['1.png', '10.jpg', '2.jpg', '3.png']\n",
      "['1.png', '10.jpg', '2.jpg', '3.png']\n"
     ]
    }
   ],
   "source": [
    "files=['font','1.png','10.jpg','11.gif','2.jpg','3.png','table.xslx','spec.docx']\n",
    "\n",
    "print(list(filter(lambda x:x.find('.jpg')!=-1 or x.find('.png')!=-1,files)))  \n",
    "print(list(filter(lambda x:x.endswith('.jpg') or x.endswith('.png'),files)))  ## endswith를 사용함 \n",
    "print([x for x in files if x.endswith('.jpg') or x.endswith('.png') ]) ## list comprehension을 사용함"
   ]
  },
  {
   "cell_type": "code",
   "execution_count": 5,
   "id": "515c4db9",
   "metadata": {},
   "outputs": [
    {
     "name": "stdout",
     "output_type": "stream",
     "text": [
      "['alpha', 'bravo', 'delta', 'hotel', 'india']\n"
     ]
    }
   ],
   "source": [
    "a=['alpha','bravo','charlie','delta','foxtrot','glf','hotel','india']\n",
    "\n",
    "b=[i for i in a if len(i)==5]\n",
    "print(b)"
   ]
  },
  {
   "cell_type": "code",
   "execution_count": 10,
   "id": "3320d31f",
   "metadata": {},
   "outputs": [
    {
     "name": "stdout",
     "output_type": "stream",
     "text": [
      "Python.exe\n"
     ]
    }
   ],
   "source": [
    "path='C:\\\\Users\\\\dojang\\\\AppData\\\\Local\\\\Programs\\\\Python\\\\Python36-32\\\\Python.exe'\n",
    "\n",
    "x=path.split('\\\\')\n",
    "filename=x[-1]\n",
    "\n",
    "# 또는\n",
    "x=path.split('\\\\')\n",
    "x.reverse()\n",
    "filename=x[0]\n",
    "\n",
    "#또는\n",
    "filename=path[path.rfind('\\\\')+1:]\n",
    "\n",
    "print(filename)"
   ]
  },
  {
   "cell_type": "code",
   "execution_count": null,
   "id": "24087039",
   "metadata": {},
   "outputs": [],
   "source": []
  }
 ],
 "metadata": {
  "kernelspec": {
   "display_name": "Python 3 (ipykernel)",
   "language": "python",
   "name": "python3"
  },
  "language_info": {
   "codemirror_mode": {
    "name": "ipython",
    "version": 3
   },
   "file_extension": ".py",
   "mimetype": "text/x-python",
   "name": "python",
   "nbconvert_exporter": "python",
   "pygments_lexer": "ipython3",
   "version": "3.9.7"
  }
 },
 "nbformat": 4,
 "nbformat_minor": 5
}
